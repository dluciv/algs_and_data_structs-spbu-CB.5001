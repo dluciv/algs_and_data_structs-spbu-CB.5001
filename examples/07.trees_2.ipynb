{
 "nbformat": 4,
 "nbformat_minor": 2,
 "metadata": {
  "language_info": {
   "name": "python",
   "codemirror_mode": {
    "name": "ipython",
    "version": 3
   },
   "version": "3.8.1-final"
  },
  "orig_nbformat": 2,
  "file_extension": ".py",
  "mimetype": "text/x-python",
  "name": "python",
  "npconvert_exporter": "python",
  "pygments_lexer": "ipython3",
  "version": 3,
  "kernelspec": {
   "name": "python3",
   "display_name": "Python 3"
  }
 },
 "cells": [
  {
   "cell_type": "markdown",
   "metadata": {},
   "source": [
    "## R-Деревья\n",
    "\n",
    "Питоновская обёртка над [libspatialindex](https://libspatialindex.org/)\n",
    "\n",
    "* `pip install Rtree` или, если не заработает,\n",
    "* `pipwin install Rtree` или, если не заработает (что очень вероятно),\n",
    "* то вам скорее всего [сюда](https://www.lfd.uci.edu/~gohlke/pythonlibs/#rtree)."
   ],
   "execution_count": null,
   "outputs": []
  },
  {
   "cell_type": "code",
   "execution_count": null,
   "metadata": {},
   "outputs": [],
   "source": [
    "from random import Random\n",
    "from rtree.index import Index\n",
    "\n",
    "r = Random()\n",
    "index = Index()\n",
    "\n",
    "rectside = 0.0001\n",
    "\n",
    "points = [\n",
    "    (r.random(), r.random()) for _ in range(20000)\n",
    "]\n",
    "\n",
    "for i, (x, y) in enumerate(points):\n",
    "    index.add(i, (x-rectside, y-rectside, x+rectside, y+rectside))"
   ]
  },
  {
   "cell_type": "code",
   "execution_count": null,
   "metadata": {},
   "outputs": [],
   "source": [
    "from typing import List, Tuple\n",
    "\n",
    "def unindexed_n(n_first: int, result: List[int]):\n",
    "    result.clear()\n",
    "    for i in range(n_first):\n",
    "        x_i, y_i = points[i]\n",
    "        for j in range(len(points)):\n",
    "            x_j, y_j = points[j]\n",
    "            if abs(x_i - x_j) <= 2 * rectside and abs(y_i - y_j) <= 2 * rectside:\n",
    "                result.append(j)\n",
    "\n",
    "def indexed_n(n_first: int, result: List[int]):\n",
    "    result.clear()\n",
    "    for i in range(n_first):\n",
    "        x_i, y_i = points[i]\n",
    "        js = index.intersection((x_i-rectside, y_i-rectside, x_i+rectside, y_i+rectside))\n",
    "        for j in js:\n",
    "            result.append(j)\n",
    "\n",
    "u_n: List[int] = []\n",
    "i_n: List[int] = []\n",
    "\n",
    "n_first = 500\n",
    "\n",
    "%timeit unindexed_n(n_first, u_n)\n",
    "%timeit indexed_n(n_first, i_n)\n",
    "\n",
    "u_n.sort()\n",
    "i_n.sort()\n",
    "\n",
    "print(u100 == i100)"
   ]
  },
  {
   "cell_type": "code",
   "execution_count": null,
   "metadata": {},
   "outputs": [],
   "source": []
  }
 ]
}
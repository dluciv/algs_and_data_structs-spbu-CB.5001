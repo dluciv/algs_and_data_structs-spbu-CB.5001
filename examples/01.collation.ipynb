{
 "cells": [
  {
   "cell_type": "markdown",
   "metadata": {},
   "source": [
    "Проверим, корректно ли ICU сортирует? Правда ли тут https://stackoverflow.com/a/1098160 написана?\n",
    "\n",
    "Зависимости под Windows:\n",
    "\n",
    "```\n",
    "> pip install pipwin\n",
    "> pipwin install pyicu\n",
    "```\n",
    "\n",
    "Увы, не всегда работает. Поэтому ставим PyICU вручную отсюда: https://www.lfd.uci.edu/~gohlke/pythonlibs/\n",
    "\n",
    "* В роли Windows выступала Windows 10\n",
    "* В роли UNIX-подобной ОС выступал Linux x86\\_64 5.5.8-arch1-1 \\#1 SMP PREEMPT"
   ]
  },
  {
   "cell_type": "code",
   "execution_count": null,
   "metadata": {
    "jupyter": {
     "source_hidden": true
    }
   },
   "outputs": [],
   "source": [
    "import os\n",
    "\n",
    "strings = ['a','b','c','\"b\"','\"c\"','ä', 'cote', 'coté', 'côte', 'côté', 'и', 'й', 'і', 'ї']\n",
    "locales_win = ['en_US', 'fr_FR', 'fr_CA', 'ru_RU']\n",
    "locales_unix = [l + '.UTF-8' for l in locales_win]\n",
    "\n",
    "locales = locales_win if os.name == 'nt' else locales_unix"
   ]
  },
  {
   "cell_type": "markdown",
   "metadata": {},
   "source": [
    "Для UNIX-подобных ОС все локали придётся сгенерировать при помощи `locale-gen`\n",
    "\n",
    "Тогда следующий пример будет правильно работать под Windows и UNIX"
   ]
  },
  {
   "cell_type": "code",
   "execution_count": 2,
   "metadata": {},
   "outputs": [
    {
     "name": "stdout",
     "output_type": "stream",
     "text": [
      "en_US ['\"b\"', '\"c\"', 'a', 'ä', 'b', 'c', 'cote', 'coté', 'côte', 'côté', 'и', 'і', 'ї', 'й']\n",
      "fr_FR ['\"b\"', '\"c\"', 'a', 'ä', 'b', 'c', 'cote', 'coté', 'côte', 'côté', 'и', 'і', 'ї', 'й']\n",
      "fr_CA ['\"b\"', '\"c\"', 'a', 'ä', 'b', 'c', 'cote', 'côte', 'coté', 'côté', 'и', 'і', 'ї', 'й']\n",
      "ru_RU ['\"b\"', '\"c\"', 'и', 'і', 'ї', 'й', 'a', 'ä', 'b', 'c', 'cote', 'coté', 'côte', 'côté']\n"
     ]
    }
   ],
   "source": [
    "import icu\n",
    "\n",
    "for l in locales_win:  # locales_win в том числе и под UNIX, иначе канадский французский не сработает...\n",
    "    collator  = icu.Collator.createInstance(icu.Locale(l))\n",
    "    print(l, sorted(strings, key=collator.getSortKey))"
   ]
  },
  {
   "cell_type": "markdown",
   "metadata": {},
   "source": [
    "Следующий пример под Windows считает любой французский канадским, а под UNIX работает верно"
   ]
  },
  {
   "cell_type": "code",
   "execution_count": 3,
   "metadata": {},
   "outputs": [
    {
     "name": "stdout",
     "output_type": "stream",
     "text": [
      "en_US ['\"b\"', '\"c\"', 'a', 'ä', 'b', 'c', 'cote', 'coté', 'côte', 'côté', 'и', 'й', 'і', 'ї']\n",
      "fr_FR ['\"b\"', '\"c\"', 'a', 'ä', 'b', 'c', 'cote', 'côte', 'coté', 'côté', 'и', 'й', 'і', 'ї']\n",
      "fr_CA ['\"b\"', '\"c\"', 'a', 'ä', 'b', 'c', 'cote', 'côte', 'coté', 'côté', 'и', 'й', 'і', 'ї']\n",
      "ru_RU ['\"b\"', '\"c\"', 'a', 'ä', 'b', 'c', 'cote', 'coté', 'côte', 'côté', 'и', 'і', 'ї', 'й']\n"
     ]
    },
    {
     "data": {
      "text/plain": [
       "'Ru'"
      ]
     },
     "execution_count": 3,
     "metadata": {},
     "output_type": "execute_result"
    }
   ],
   "source": [
    "import locale\n",
    "import functools\n",
    "import os\n",
    "# https://docs.python.org/3/library/functools.html#functools.cmp_to_key\n",
    "\n",
    "ol = locale.getlocale()\n",
    "\n",
    "for l in locales:\n",
    "    locale.setlocale(locale.LC_COLLATE, l)\n",
    "    print(l, sorted(strings, key=functools.cmp_to_key(locale.strcoll)))\n",
    "\n",
    "locale.setlocale(locale.LC_COLLATE, ol[0][:2] if os.name == 'nt' else '.'.join(ol))"
   ]
  },
  {
   "cell_type": "code",
   "execution_count": null,
   "metadata": {},
   "outputs": [],
   "source": []
  }
 ],
 "metadata": {
  "kernelspec": {
   "display_name": "Python 3",
   "language": "python",
   "name": "python3"
  },
  "language_info": {
   "codemirror_mode": {
    "name": "ipython",
    "version": 3
   },
   "file_extension": ".py",
   "mimetype": "text/x-python",
   "name": "python",
   "nbconvert_exporter": "python",
   "pygments_lexer": "ipython3",
   "version": "3.8.1"
  }
 },
 "nbformat": 4,
 "nbformat_minor": 4
}

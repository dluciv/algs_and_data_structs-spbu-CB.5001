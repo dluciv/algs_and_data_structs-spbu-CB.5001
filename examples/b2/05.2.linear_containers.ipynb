{
 "cells": [
  {
   "cell_type": "markdown",
   "metadata": {},
   "source": [
    "## Насколько в Питоновский список легко добавлять?"
   ]
  },
  {
   "cell_type": "code",
   "execution_count": 22,
   "metadata": {},
   "outputs": [
    {
     "name": "stdout",
     "output_type": "stream",
     "text": [
      "Inserting at 0...\n",
      "Done. l takes 64 bytes.\n"
     ]
    }
   ],
   "source": [
    "import sys\n",
    "import time\n",
    "\n",
    "# import zarr\n",
    "import llist  # \n",
    "\n",
    "lt = [0.0] * 250_000\n",
    "\n",
    "# l = zarr.array(data=[], shape=(0,), chunks=(1000,), dtype=int)\n",
    "l = llist.sllist()\n",
    "\n",
    "\n",
    "print(\"Inserting at 0...\")\n",
    "\n",
    "for i in range(len(lt)):\n",
    "    # l.append((0,))\n",
    "    l.append(0)\n",
    "    lt[i] = time.time()\n",
    "\n",
    "print(f\"Done. l takes {sys.getsizeof(l)} bytes.\")"
   ]
  },
  {
   "cell_type": "code",
   "execution_count": 23,
   "metadata": {},
   "outputs": [
    {
     "name": "stdout",
     "output_type": "stream",
     "text": [
      "Profiling...\n",
      "Plotting...\n"
     ]
    },
    {
     "data": {
      "image/png": "[encoded data removed]",
      "text/plain": [
       "<Figure size 432x288 with 1 Axes>"
      ]
     },
     "metadata": {
      "needs_background": "light"
     },
     "output_type": "display_data"
    }
   ],
   "source": [
    "%matplotlib inline\n",
    "import matplotlib.pyplot as plt\n",
    "\n",
    "print(\"Profiling...\")\n",
    "d = [\n",
    "    t2 - t1 for t1, t2 in zip(lt[:-1], lt[1:])\n",
    "]\n",
    "\n",
    "print(\"Plotting...\")\n",
    "\n",
    "plt.plot(range(len(d)), d)\n",
    "plt.show()"
   ]
  },
  {
   "cell_type": "code",
   "execution_count": 24,
   "metadata": {},
   "outputs": [
    {
     "name": "stdout",
     "output_type": "stream",
     "text": [
      "Smoothing...\n",
      "Plotting...\n"
     ]
    },
    {
     "data": {
      "image/png": "[encoded data removed]",
      "text/plain": [
       "<Figure size 432x288 with 1 Axes>"
      ]
     },
     "metadata": {
      "needs_background": "light"
     },
     "output_type": "display_data"
    }
   ],
   "source": [
    "%matplotlib inline\n",
    "\n",
    "import numpy as np\n",
    "window_size = 5000\n",
    "\n",
    "a0 = np.average(d[:window_size])\n",
    "\n",
    "def windows():\n",
    "    global a0\n",
    "    for i in range(len(d)-window_size):\n",
    "        yield a0\n",
    "        a0 += (d[i+window_size] - d[i]) / window_size\n",
    "\n",
    "print(\"Smoothing...\")\n",
    "averages = [a0] + [v for v in windows()]\n",
    "print(\"Plotting...\")\n",
    "\n",
    "plt.plot(range(len(averages)), averages)\n",
    "plt.show()"
   ]
  },
  {
   "cell_type": "code",
   "execution_count": null,
   "metadata": {},
   "outputs": [],
   "source": []
  }
 ],
 "metadata": {
  "file_extension": ".py",
  "kernelspec": {
   "display_name": "Python 3",
   "language": "python",
   "name": "python3"
  },
  "language_info": {
   "codemirror_mode": {
    "name": "ipython",
    "version": 3
   },
   "file_extension": ".py",
   "mimetype": "text/x-python",
   "name": "python",
   "nbconvert_exporter": "python",
   "pygments_lexer": "ipython3",
   "version": "3.9.4"
  },
  "mimetype": "text/x-python",
  "name": "python",
  "npconvert_exporter": "python",
  "pygments_lexer": "ipython3",
  "version": 3
 },
 "nbformat": 4,
 "nbformat_minor": 4
}

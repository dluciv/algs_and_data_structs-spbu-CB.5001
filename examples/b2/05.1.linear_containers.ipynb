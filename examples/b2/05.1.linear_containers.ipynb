{
 "cells": [
  {
   "cell_type": "markdown",
   "metadata": {},
   "source": [
    "## Насколько в Питоновский список легко добавлять?"
   ]
  },
  {
   "cell_type": "code",
   "execution_count": null,
   "metadata": {
    "tags": []
   },
   "outputs": [],
   "source": [
    "import time\n",
    "import sys\n",
    "import math\n",
    "\n",
    "print(\"Наносекунд с 1970 г. прошло много\", time.time_ns())\n",
    "print(\"В int64 они влезут?.. \", time.time_ns() / (sys.maxsize / 2), \"... похоже да, хотя запас небольшой\")"
   ]
  },
  {
   "cell_type": "code",
   "execution_count": null,
   "metadata": {},
   "outputs": [],
   "source": [
    "to_try = [\n",
    "    \"0\", \"1\",\n",
    "    \"2.718281828\", \"math.e\",\n",
    "    \"[2.718281828] * 1000\", \"[math.e] * 1000\",\n",
    "    \"[1] * 1000\", \"[time.time_ns()] * 1000\"\n",
    "]\n",
    "\n",
    "for s in to_try:\n",
    "    print(s, \"takes\", sys.getsizeof(eval(s)), \"bytes\")"
   ]
  },
  {
   "cell_type": "code",
   "execution_count": null,
   "metadata": {
    "tags": []
   },
   "outputs": [],
   "source": [
    "lt = [0.0] * 250_000\n",
    "l = []\n",
    "\n",
    "print(\"Inserting at 0...\")\n",
    "\n",
    "for i in range(len(lt)):\n",
    "    l.insert(0, 0)  # А потом попробовать .append(0) и сравнить\n",
    "    lt[i] = time.time()\n",
    "\n",
    "print(f\"Done. l takes {sys.getsizeof(l)} bytes.\")"
   ]
  },
  {
   "cell_type": "code",
   "execution_count": null,
   "metadata": {},
   "outputs": [],
   "source": [
    "%matplotlib inline\n",
    "import matplotlib.pyplot as plt\n",
    "\n",
    "print(\"Profiling...\")\n",
    "d = [\n",
    "    t2 - t1 for t1, t2 in zip(lt[:-1], lt[1:])\n",
    "]\n",
    "\n",
    "print(\"Plotting...\")\n",
    "\n",
    "plt.plot(range(len(d)), d)\n",
    "plt.show()"
   ]
  },
  {
   "cell_type": "code",
   "execution_count": null,
   "metadata": {},
   "outputs": [],
   "source": []
  },
  {
   "cell_type": "code",
   "execution_count": null,
   "metadata": {},
   "outputs": [],
   "source": [
    "%matplotlib inline\n",
    "\n",
    "import numpy as np\n",
    "window_size = 5000\n",
    "\n",
    "a0 = np.average(d[:window_size])\n",
    "\n",
    "def windows():\n",
    "    global a0\n",
    "    for i in range(len(d)-window_size):\n",
    "        yield a0\n",
    "        a0 += (d[i+window_size] - d[i]) / window_size\n",
    "\n",
    "print(\"Smoothing...\")\n",
    "averages = [a0] + [v for v in windows()]\n",
    "print(\"Plotting...\")\n",
    "\n",
    "plt.plot(range(len(averages)), averages)\n",
    "plt.show()"
   ]
  },
  {
   "cell_type": "code",
   "execution_count": null,
   "metadata": {},
   "outputs": [],
   "source": []
  }
 ],
 "metadata": {
  "file_extension": ".py",
  "kernelspec": {
   "display_name": "Python 3 (ipykernel)",
   "language": "python",
   "name": "python3"
  },
  "language_info": {
   "codemirror_mode": {
    "name": "ipython",
    "version": 3
   },
   "file_extension": ".py",
   "mimetype": "text/x-python",
   "name": "python",
   "nbconvert_exporter": "python",
   "pygments_lexer": "ipython3",
   "version": "3.12.2"
  },
  "mimetype": "text/x-python",
  "name": "python",
  "npconvert_exporter": "python",
  "pygments_lexer": "ipython3",
  "version": 3
 },
 "nbformat": 4,
 "nbformat_minor": 4
}

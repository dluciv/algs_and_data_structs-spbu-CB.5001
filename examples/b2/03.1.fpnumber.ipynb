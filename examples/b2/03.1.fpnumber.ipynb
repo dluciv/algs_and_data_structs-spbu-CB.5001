{
 "cells": [
  {
   "cell_type": "code",
   "execution_count": null,
   "metadata": {},
   "outputs": [],
   "source": [
    "%pip install -q numpy matplotlib bitstruct"
   ]
  },
  {
   "cell_type": "code",
   "execution_count": 2,
   "metadata": {
    "tags": []
   },
   "outputs": [],
   "source": [
    "import numpy as np\n",
    "import functools\n",
    "import bitstruct.c as bs"
   ]
  },
  {
   "cell_type": "code",
   "execution_count": 3,
   "metadata": {
    "tags": []
   },
   "outputs": [
    {
     "name": "stdout",
     "output_type": "stream",
     "text": [
      "Normalized\n",
      "S:0 E:01111111=+000 M:[1].00000000000000000000000 = 1.0\n",
      "S:1 E:01111111=+000 M:[1].00000000000000000000000 = -1.0\n",
      "S:0 E:10000000=+001 M:[1].01000000000000000000000 = 2.5\n",
      "S:1 E:10000000=+001 M:[1].11000000000000000000000 = -3.5\n",
      "Denormalized\n",
      "S:0 E:00000000=-127 M:[0].00000000000000000000000 = 0.0\n",
      "S:1 E:00000000=-127 M:[0].00000000000000000000000 = -0.0\n",
      "S:0 E:00000001=-126 M:[1].10000000000000000000000 = 1.7632415262334313e-38\n",
      "S:0 E:00000000=-127 M:[0].11000000000000000000000 = 8.816207631167156e-39\n",
      "S:0 E:00000000=-127 M:[0].01100000000000000000000 = 4.408103815583578e-39\n",
      "Specials\n",
      "S:0 E:11111111=+128 M:[1].10000000000000000000000 = nan\n",
      "S:1 E:11111111=+128 M:[1].10000000000000000000000 = nan\n",
      "S:0 E:11111111=+128 M:[1].00000000000000000000000 = inf\n",
      "S:1 E:11111111=+128 M:[1].00000000000000000000000 = -inf\n"
     ]
    }
   ],
   "source": [
    "def r32m(f: float):\n",
    "    f = np.float32(f)\n",
    "    fbytes = f.tobytes()\n",
    "    fbytes = reversed(fbytes) # x86 is little endian\n",
    "    fbits = functools.reduce(lambda a, b: a + b, (bin(b)[2:].rjust(8, '0') for b in fbytes))\n",
    "\n",
    "    sign_bit = fbits[0]\n",
    "    exp_bits = fbits[1:9]\n",
    "    exp_val  = int(exp_bits, 2) - 127\n",
    "    mant_bits = fbits[9:]\n",
    "\n",
    "    norm_int = 1 if exp_val > -127 else 0\n",
    "\n",
    "    return f\"S:{sign_bit} E:{exp_bits}={exp_val:+04} M:[{norm_int}].{mant_bits} = {f}\"\n",
    "\n",
    "\n",
    "def r32bs(f: float):\n",
    "    f = np.float32(f)\n",
    "    fbytes = bytes(reversed(f.tobytes())) # x86 is little endian\n",
    "    sign_bit, exp_int, mant_int = bs.unpack('u1u8u23', fbytes) # bit format line!\n",
    "    exp_val = exp_int - 127\n",
    "    norm_int = 1 if exp_val > -127 else 0   \n",
    "    return f\"S:{sign_bit} E:{bin(exp_int)[2:].rjust(8, '0')}={exp_val:+04} M:[{norm_int}].{bin(mant_int)[2:].rjust(23, '0')} = {f}\"\n",
    "\n",
    "r32=r32bs\n",
    "\n",
    "print(\"Normalized\")\n",
    "print(r32(1.0))\n",
    "print(r32(-1.0))\n",
    "print(r32(2.5))\n",
    "print(r32(-3.5))\n",
    "\n",
    "print(\"Denormalized\")\n",
    "print(r32(0.0))\n",
    "print(r32(-0.0))\n",
    "print(r32(1.5 * 2**-126))\n",
    "print(r32(1.5 * 2**-127))\n",
    "print(r32(1.5 * 2**-128))\n",
    "\n",
    "print(\"Specials\")\n",
    "print(r32(np.NaN))\n",
    "print(r32(-np.NaN))\n",
    "print(r32(np.inf))\n",
    "print(r32(-np.inf))"
   ]
  },
  {
   "cell_type": "code",
   "execution_count": 4,
   "metadata": {},
   "outputs": [
    {
     "name": "stdout",
     "output_type": "stream",
     "text": [
      "Generated 63241 float16's.\n"
     ]
    }
   ],
   "source": [
    "all_f16s = set()\n",
    "def gen_f16s():\n",
    "    for b0 in range(255):\n",
    "        for b1 in range(255):\n",
    "            try:\n",
    "                f = np.frombuffer(bytes([b0, b1]), dtype=np.float16)[0]\n",
    "                if not np.isnan(f):\n",
    "                    all_f16s.add(f)\n",
    "            except Exception as e:\n",
    "                print(e)\n",
    "\n",
    "gen_f16s()\n",
    "print(f\"Generated {len(all_f16s)} float16's.\")"
   ]
  },
  {
   "cell_type": "code",
   "execution_count": 5,
   "metadata": {},
   "outputs": [
    {
     "name": "stdout",
     "output_type": "stream",
     "text": [
      "Floats: -inf inf 6e-08 65470.0\n"
     ]
    }
   ],
   "source": [
    "print(\"Floats:\",\n",
    "      min(all_f16s),\n",
    "      max(all_f16s),\n",
    "      min([f for f in all_f16s if f > 0.0]),\n",
    "      max([f for f in all_f16s if not np.isinf(f)]))"
   ]
  },
  {
   "cell_type": "code",
   "execution_count": 6,
   "metadata": {},
   "outputs": [
    {
     "name": "stdout",
     "output_type": "stream",
     "text": [
      "Floats 1..16\n"
     ]
    },
    {
     "data": {
      "image/png": "[encoded data removed]",
      "text/plain": [
       "<Figure size 640x480 with 1 Axes>"
      ]
     },
     "metadata": {},
     "output_type": "display_data"
    }
   ],
   "source": [
    "%matplotlib inline\n",
    "\n",
    "import matplotlib.pyplot as plt\n",
    "num_bins = 256\n",
    "\n",
    "print(\"Floats 1..16\")\n",
    "plt.hist([f for f in all_f16s if 1 <= f < 16], num_bins,\n",
    "         density=True,\n",
    "         histtype='bar'\n",
    ")\n",
    "\n",
    "plt.show()"
   ]
  }
 ],
 "metadata": {
  "file_extension": ".py",
  "kernelspec": {
   "display_name": "Python 3 (ipykernel)",
   "language": "python",
   "name": "python3"
  },
  "language_info": {
   "codemirror_mode": {
    "name": "ipython",
    "version": 3
   },
   "file_extension": ".py",
   "mimetype": "text/x-python",
   "name": "python",
   "nbconvert_exporter": "python",
   "pygments_lexer": "ipython3",
   "version": "3.12.2"
  },
  "mimetype": "text/x-python",
  "name": "python",
  "npconvert_exporter": "python",
  "pygments_lexer": "ipython3",
  "version": 3
 },
 "nbformat": 4,
 "nbformat_minor": 4
}

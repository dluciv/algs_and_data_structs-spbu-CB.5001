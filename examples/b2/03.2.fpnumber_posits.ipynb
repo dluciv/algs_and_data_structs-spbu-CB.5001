{
 "cells": [
  {
   "cell_type": "code",
   "execution_count": null,
   "metadata": {},
   "outputs": [],
   "source": [
    "%pip install -q softposit"
   ]
  },
  {
   "cell_type": "code",
   "execution_count": 2,
   "metadata": {},
   "outputs": [],
   "source": [
    "import softposit as sp\n",
    "import numpy as np"
   ]
  },
  {
   "cell_type": "code",
   "execution_count": 3,
   "metadata": {},
   "outputs": [
    {
     "name": "stdout",
     "output_type": "stream",
     "text": [
      "0.000000 \u001b[1;37;41m0\u001b[0m\u001b[1;30;43m0000000 00000000 00000000 00000000\u001b[0m\n",
      "0.062500 \u001b[1;37;41m0\u001b[0m\u001b[1;30;43m01\u001b[0m\u001b[1;37;44m00\u001b[0m\u001b[1;37;40m000 00000000 00000000 00000000\u001b[0m\n",
      "0.125000 \u001b[1;37;41m0\u001b[0m\u001b[1;30;43m01\u001b[0m\u001b[1;37;44m01\u001b[0m\u001b[1;37;40m000 00000000 00000000 00000000\u001b[0m\n",
      "0.250000 \u001b[1;37;41m0\u001b[0m\u001b[1;30;43m01\u001b[0m\u001b[1;37;44m10\u001b[0m\u001b[1;37;40m000 00000000 00000000 00000000\u001b[0m\n",
      "0.500000 \u001b[1;37;41m0\u001b[0m\u001b[1;30;43m01\u001b[0m\u001b[1;37;44m11\u001b[0m\u001b[1;37;40m000 00000000 00000000 00000000\u001b[0m\n",
      "1.000000 \u001b[1;37;41m0\u001b[0m\u001b[1;30;43m10\u001b[0m\u001b[1;37;44m00\u001b[0m\u001b[1;37;40m000 00000000 00000000 00000000\u001b[0m\n",
      "1 to 1000\n",
      "0.000000 \u001b[1;37;41m0\u001b[0m\u001b[1;30;43m0000000 00000000 00000000 00000000\u001b[0m\n",
      "100.000000 \u001b[1;37;41m0\u001b[0m\u001b[1;30;43m110\u001b[0m\u001b[1;37;44m10\u001b[0m\u001b[1;37;40m10 01000000 00000000 00000000\u001b[0m\n",
      "200.000000 \u001b[1;37;41m0\u001b[0m\u001b[1;30;43m110\u001b[0m\u001b[1;37;44m11\u001b[0m\u001b[1;37;40m10 01000000 00000000 00000000\u001b[0m\n",
      "300.000000 \u001b[1;37;41m0\u001b[0m\u001b[1;30;43m1110\u001b[0m\u001b[1;37;44m00\u001b[0m\u001b[1;37;40m0 01011000 00000000 00000000\u001b[0m\n",
      "400.000000 \u001b[1;37;41m0\u001b[0m\u001b[1;30;43m1110\u001b[0m\u001b[1;37;44m00\u001b[0m\u001b[1;37;40m1 00100000 00000000 00000000\u001b[0m\n",
      "500.000000 \u001b[1;37;41m0\u001b[0m\u001b[1;30;43m1110\u001b[0m\u001b[1;37;44m00\u001b[0m\u001b[1;37;40m1 11101000 00000000 00000000\u001b[0m\n",
      "600.000000 \u001b[1;37;41m0\u001b[0m\u001b[1;30;43m1110\u001b[0m\u001b[1;37;44m01\u001b[0m\u001b[1;37;40m0 01011000 00000000 00000000\u001b[0m\n",
      "700.000000 \u001b[1;37;41m0\u001b[0m\u001b[1;30;43m1110\u001b[0m\u001b[1;37;44m01\u001b[0m\u001b[1;37;40m0 10111100 00000000 00000000\u001b[0m\n",
      "800.000000 \u001b[1;37;41m0\u001b[0m\u001b[1;30;43m1110\u001b[0m\u001b[1;37;44m01\u001b[0m\u001b[1;37;40m1 00100000 00000000 00000000\u001b[0m\n",
      "900.000000 \u001b[1;37;41m0\u001b[0m\u001b[1;30;43m1110\u001b[0m\u001b[1;37;44m01\u001b[0m\u001b[1;37;40m1 10000100 00000000 00000000\u001b[0m\n",
      "0.00001 to 0.0001\n",
      "0.000010 \u001b[1;37;41m0\u001b[0m\u001b[1;30;43m000001\u001b[0m\u001b[1;37;44m1 1\u001b[0m\u001b[1;37;40m0100111 11000101 10101100\u001b[0m\n",
      "0.000020 \u001b[1;37;41m0\u001b[0m\u001b[1;30;43m00001\u001b[0m\u001b[1;37;44m00\u001b[0m \u001b[1;37;40m01001111 10001011 01011001\u001b[0m\n",
      "0.000030 \u001b[1;37;41m0\u001b[0m\u001b[1;30;43m00001\u001b[0m\u001b[1;37;44m00\u001b[0m \u001b[1;37;40m11110111 01010001 00000101\u001b[0m\n",
      "0.000040 \u001b[1;37;41m0\u001b[0m\u001b[1;30;43m00001\u001b[0m\u001b[1;37;44m01\u001b[0m \u001b[1;37;40m01001111 10001011 01011001\u001b[0m\n",
      "0.000050 \u001b[1;37;41m0\u001b[0m\u001b[1;30;43m00001\u001b[0m\u001b[1;37;44m01\u001b[0m \u001b[1;37;40m10100011 01101110 00101111\u001b[0m\n",
      "0.000060 \u001b[1;37;41m0\u001b[0m\u001b[1;30;43m00001\u001b[0m\u001b[1;37;44m01\u001b[0m \u001b[1;37;40m11110111 01010001 00000101\u001b[0m\n",
      "0.000070 \u001b[1;37;41m0\u001b[0m\u001b[1;30;43m00001\u001b[0m\u001b[1;37;44m10\u001b[0m \u001b[1;37;40m00100101 10011001 11101101\u001b[0m\n",
      "0.000080 \u001b[1;37;41m0\u001b[0m\u001b[1;30;43m00001\u001b[0m\u001b[1;37;44m10\u001b[0m \u001b[1;37;40m01001111 10001011 01011001\u001b[0m\n",
      "0.000090 \u001b[1;37;41m0\u001b[0m\u001b[1;30;43m00001\u001b[0m\u001b[1;37;44m10\u001b[0m \u001b[1;37;40m01111001 01111100 11000100\u001b[0m\n"
     ]
    }
   ],
   "source": [
    "for v in [0.0, 1/16, 1/8, 1/4, 1/2, 1]:\n",
    "    print(f'{v:0.6f}', end=' ')\n",
    "    sp.posit32(v).toBinaryFormatted()\n",
    "\n",
    "print(\"1 to 1000\")\n",
    "for v in np.arange(0.0,0):\n",
    "    print(f'{v:0.6f}', end=' ')\n",
    "    sp.posit32(v).toBinaryFormatted()\n",
    "\n",
    "print(\"0.00001 to 0.0001\")\n",
    "for v in np.arange(0.00001, 0.0001, 0.00001):\n",
    "    print(f'{v:0.6f}', end=' ')\n",
    "    sp.posit32(v).toBinaryFormatted()"
   ]
  },
  {
   "cell_type": "code",
   "execution_count": 4,
   "metadata": {},
   "outputs": [
    {
     "name": "stdout",
     "output_type": "stream",
     "text": [
      "Generated 63241 float16's.\n"
     ]
    }
   ],
   "source": [
    "all_f16s = set()\n",
    "def gen_f16s():\n",
    "    for b0 in range(255):\n",
    "        for b1 in range(255):\n",
    "            try:\n",
    "                f = np.frombuffer(bytes([b0, b1]), dtype=np.float16)[0]\n",
    "                if not np.isnan(f):\n",
    "                    all_f16s.add(f)\n",
    "            except Exception as e:\n",
    "                print(e)\n",
    "\n",
    "gen_f16s()\n",
    "print(f\"Generated {len(all_f16s)} float16's.\")"
   ]
  },
  {
   "cell_type": "code",
   "execution_count": 5,
   "metadata": {
    "tags": [
     "outputPrepend",
     "outputPrepend",
     "outputPrepend",
     "outputPrepend",
     "outputPrepend",
     "outputPrepend",
     "outputPrepend",
     "outputPrepend",
     "outputPrepend",
     "outputPrepend",
     "outputPrepend",
     "outputPrepend",
     "outputPrepend",
     "outputPrepend",
     "outputPrepend",
     "outputPrepend",
     "outputPrepend",
     "outputPrepend",
     "outputPrepend",
     "outputPrepend",
     "outputPrepend",
     "outputPrepend",
     "outputPrepend",
     "outputPrepend",
     "outputPrepend",
     "outputPrepend",
     "outputPrepend",
     "outputPrepend",
     "outputPrepend",
     "outputPrepend",
     "outputPrepend",
     "outputPrepend",
     "outputPrepend",
     "outputPrepend",
     "outputPrepend",
     "outputPrepend",
     "outputPrepend",
     "outputPrepend",
     "outputPrepend",
     "outputPrepend",
     "outputPrepend",
     "outputPrepend",
     "outputPrepend",
     "outputPrepend",
     "outputPrepend",
     "outputPrepend",
     "outputPrepend",
     "outputPrepend",
     "outputPrepend",
     "outputPrepend",
     "outputPrepend",
     "outputPrepend",
     "outputPrepend",
     "outputPrepend",
     "outputPrepend",
     "outputPrepend",
     "outputPrepend",
     "outputPrepend",
     "outputPrepend",
     "outputPrepend",
     "outputPrepend",
     "outputPrepend",
     "outputPrepend",
     "outputPrepend",
     "outputPrepend"
    ]
   },
   "outputs": [
    {
     "name": "stdout",
     "output_type": "stream",
     "text": [
      "Generated 65535 posit16's.\n"
     ]
    }
   ],
   "source": [
    "all_p16s = set()\n",
    "\n",
    "# Hope they will once merge https://gitlab.com/cerlane/SoftPosit-Python/-/merge_requests/1 soon\n",
    "class hp16(sp.posit16):\n",
    "    def __hash__(self):\n",
    "        return hash(self.v)\n",
    "\n",
    "\n",
    "def gen_p16s():\n",
    "    for i in range(2 ** 16):\n",
    "        try:\n",
    "            p = hp16(bits=i)\n",
    "            if not p.isNaR():\n",
    "                all_p16s.add(p)\n",
    "        except Exception as e:\n",
    "            print(e)\n",
    "\n",
    "gen_p16s()\n",
    "print(f\"Generated {len(all_p16s)} posit16's.\")"
   ]
  },
  {
   "cell_type": "code",
   "execution_count": 19,
   "metadata": {},
   "outputs": [
    {
     "name": "stdout",
     "output_type": "stream",
     "text": [
      "Floats: -inf inf 6e-08 65470.0\n",
      "Posits: -268435456.0 268435456.0 3.725290298461914e-09\n",
      "\u001b[1;37;41m0\u001b[0m\u001b[1;30;43m1111111 11111111\u001b[0m\n",
      "67108864.0\n",
      "\u001b[1;37;41m0\u001b[0m\u001b[1;30;43m1111111 11111110\u001b[0m\u001b[0m\n",
      "\u001b[1;37;41m0\u001b[0m\u001b[1;30;43m1111111 1111110\u001b[0m\u001b[1;37;44m0\u001b[0m\u001b[0m\n",
      "\u001b[1;37;41m0\u001b[0m\u001b[1;30;43m1111111 111110\u001b[0m\u001b[1;37;44m1\u001b[0m\u001b[1;37;40m1\u001b[0m\n",
      "\u001b[1;37;41m0\u001b[0m\u001b[1;30;43m1111111 111110\u001b[0m\u001b[1;37;44m1\u001b[0m\u001b[1;37;40m0\u001b[0m\n"
     ]
    }
   ],
   "source": [
    "print(\"Floats:\", min(all_f16s), max(all_f16s), min([f for f in all_f16s if f > 0.0]), max([f for f in all_f16s if not np.isinf(f)]))\n",
    "print(\"Posits:\", min(all_p16s), max(all_p16s), min([f for f in all_p16s if f > 0.0]))\n",
    "max(all_p16s).toBinaryFormatted()\n",
    "print(sorted(all_p16s)[-2])\n",
    "sorted(all_p16s)[-2].toBinaryFormatted()\n",
    "sorted(all_p16s)[-4].toBinaryFormatted()\n",
    "sorted(all_p16s)[-5].toBinaryFormatted()\n",
    "sorted(all_p16s)[-6].toBinaryFormatted()"
   ]
  },
  {
   "cell_type": "code",
   "execution_count": 16,
   "metadata": {},
   "outputs": [
    {
     "name": "stdout",
     "output_type": "stream",
     "text": [
      "Floats 1..16\n"
     ]
    },
    {
     "data": {
      "image/png": "[encoded data removed]",
      "text/plain": [
       "<Figure size 432x288 with 1 Axes>"
      ]
     },
     "metadata": {
      "needs_background": "light"
     },
     "output_type": "display_data"
    }
   ],
   "source": [
    "%matplotlib inline\n",
    "\n",
    "import matplotlib.pyplot as plt\n",
    "num_bins = 256\n",
    "\n",
    "print(\"Floats 1..16\")\n",
    "plt.hist([f for f in all_f16s if 1 <= f < 16], num_bins,\n",
    "         density=True,\n",
    "         histtype='bar'\n",
    ")\n",
    "\n",
    "plt.show()"
   ]
  },
  {
   "cell_type": "code",
   "execution_count": 35,
   "metadata": {},
   "outputs": [
    {
     "name": "stdout",
     "output_type": "stream",
     "text": [
      "<class 'numpy.float32'> True\n",
      "<class 'softposit.posit32'> False\n"
     ]
    }
   ],
   "source": [
    "# С Posit так не получится, слишком уж они недоделанные\n",
    "# Вот тут нужна уже большая работа, можно присоединиться: https://gitlab.com/cerlane/SoftPosit-Python/-/issues/5\n",
    "\n",
    "import numbers\n",
    "\n",
    "for t in [np.float32, sp.posit32]:\n",
    "    print(t, issubclass(t, numbers.Real))"
   ]
  },
  {
   "cell_type": "code",
   "execution_count": 18,
   "metadata": {},
   "outputs": [
    {
     "name": "stdout",
     "output_type": "stream",
     "text": [
      "Foats and Posits 1..16\n"
     ]
    },
    {
     "data": {
      "image/png": "[encoded data removed]",
      "text/plain": [
       "<Figure size 432x288 with 1 Axes>"
      ]
     },
     "metadata": {
      "needs_background": "light"
     },
     "output_type": "display_data"
    }
   ],
   "source": [
    "print(\"Foats and Posits 1..16\")\n",
    "\n",
    "# Ок, возьмём float64 — у них точности с запасом. Временно =)\n",
    "all_p16f64s = [np.float64(p) for p in all_p16s]\n",
    "\n",
    "plt.clf()\n",
    "\n",
    "plt.hist([f for f in all_p16f64s if 1 <= f < 16], num_bins,\n",
    "         density=True,\n",
    "         histtype='bar',\n",
    "         color='orange'\n",
    ")\n",
    "\n",
    "plt.hist([f for f in all_f16s if 1 <= f < 16], num_bins,\n",
    "         density=True,\n",
    "         histtype='bar',\n",
    "         alpha=0.5,\n",
    "         color='blue'\n",
    ")\n",
    "\n",
    "plt.show()"
   ]
  },
  {
   "cell_type": "code",
   "execution_count": null,
   "metadata": {},
   "outputs": [],
   "source": []
  }
 ],
 "metadata": {
  "file_extension": ".py",
  "kernelspec": {
   "display_name": "Python 3 (ipykernel)",
   "language": "python",
   "name": "python3"
  },
  "language_info": {
   "codemirror_mode": {
    "name": "ipython",
    "version": 3
   },
   "file_extension": ".py",
   "mimetype": "text/x-python",
   "name": "python",
   "nbconvert_exporter": "python",
   "pygments_lexer": "ipython3",
   "version": "3.12.2"
  },
  "mimetype": "text/x-python",
  "name": "python",
  "npconvert_exporter": "python",
  "pygments_lexer": "ipython3",
  "version": 3
 },
 "nbformat": 4,
 "nbformat_minor": 4
}

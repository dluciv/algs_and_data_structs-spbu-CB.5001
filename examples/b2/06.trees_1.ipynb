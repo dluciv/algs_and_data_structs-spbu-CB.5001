{
 "cells": [
  {
   "cell_type": "markdown",
   "metadata": {},
   "source": [
    "## Деревья\n",
    "\n",
    "`pip install binarytree anytree pandas graphviz`"
   ]
  },
  {
   "cell_type": "markdown",
   "metadata": {},
   "source": [
    "## Бинарные деревья\n",
    "\n",
    "Сколько точно вершин и листьев в идеальном бинарном дереве?\n",
    "\n",
    "1. $h = 1$ → $N = 1$, $L = 1$\n",
    "2. $h = 2$ → $N = 3$, $L = 2$\n",
    "3. $h = 3$ → $N = 7$, $L = 4$\n",
    "4. ...\n",
    "\n",
    "По индукции:\n",
    "\n",
    "* в дереве высоты $h$ вершин $N = 2^h - 1$ и листьев из них $L = 2^{h-1}$\n",
    "* для $h + 1$ листьев очевидно будет $L = 2^h$, а вершин — $N = 2^h - 1 + L = 2^h - 1 + 2^h = 2^{h+1} - 1$"
   ]
  },
  {
   "cell_type": "code",
   "execution_count": null,
   "metadata": {},
   "outputs": [],
   "source": [
    "import math\n",
    "import binarytree\n",
    "import pandas\n",
    "import random\n",
    "from typing import List, Tuple\n",
    "\n",
    "data: List[Tuple[int, int]] = []\n",
    "r = random.Random()\n",
    "\n",
    "for c in range(1000):\n",
    "    height = r.randint(5, 9)\n",
    "    t = binarytree.bst(height=height)  # мы не разбирались, как она генерирует случайные деревья\n",
    "    data.append((len(t), height + 1)) # но высотой считает не количество уровней, а максимальную длину пути от корня\n",
    "\n",
    "df = pandas.DataFrame(data, columns=[\"N\", \"h\"])\n",
    "df"
   ]
  },
  {
   "cell_type": "code",
   "execution_count": null,
   "metadata": {},
   "outputs": [],
   "source": [
    "import numpy as np\n",
    "\n",
    "@np.vectorize\n",
    "def ideal_height(n: int) -> float:\n",
    "    return math.ceil(math.log2(n + 1))\n",
    "\n",
    "df['h_ideal'] = ideal_height(df['N'])\n",
    "df['overhead'] = df['h'] / df['h_ideal']"
   ]
  },
  {
   "cell_type": "code",
   "execution_count": null,
   "metadata": {},
   "outputs": [],
   "source": [
    "%matplotlib inline\n",
    "\n",
    "df['overhead'].plot.kde()\n",
    "df['overhead'].describe()"
   ]
  },
  {
   "cell_type": "markdown",
   "metadata": {},
   "source": [
    "## Немножко про рисование графов\n",
    "\n",
    "https://www.graphviz.org/"
   ]
  },
  {
   "cell_type": "code",
   "execution_count": null,
   "metadata": {},
   "outputs": [],
   "source": [
    "import graphviz\n",
    "\n",
    "f = graphviz.Source(source='''digraph {\n",
    "    A [label=\"King Arthur\"]\n",
    "    B [label=\"Sir Bedevere the Wise\"]\n",
    "    L [label=\"Sir Lancelot the Brave\"]\n",
    "    A -> B\n",
    "    A -> L\n",
    "    B -> L [constraint=false]\n",
    "    }''')\n",
    "\n",
    "f"
   ]
  },
  {
   "cell_type": "markdown",
   "metadata": {},
   "source": [
    "## Деревья вообще\n",
    "\n"
   ]
  },
  {
   "cell_type": "code",
   "execution_count": null,
   "metadata": {},
   "outputs": [],
   "source": [
    "from anytree import Node, RenderTree\n",
    "from anytree.render import AsciiStyle, ContRoundStyle\n",
    "\n",
    "root = Node(\"root\")\n",
    "s0 = Node(\"sub0\", parent=root)\n",
    "s0b = Node(\"sub0B\", parent=s0)\n",
    "s0a = Node(\"sub0A\", parent=s0)\n",
    "s1 = Node(\"sub1\", parent=root)\n",
    "\n",
    "print(RenderTree(root, style=AsciiStyle()))\n",
    "print(RenderTree(root, style=ContRoundStyle()))"
   ]
  },
  {
   "cell_type": "code",
   "execution_count": null,
   "metadata": {},
   "outputs": [],
   "source": [
    "from IPython.display import Image\n",
    "from anytree.dotexport import RenderTreeGraph\n",
    "import tempfile\n",
    "import os\n",
    "tn = tempfile.mktemp('.png')\n",
    "\n",
    "RenderTreeGraph(root).to_picture(tn)\n",
    "i = Image(filename=tn)\n",
    "os.remove(tn)\n",
    "i"
   ]
  },
  {
   "cell_type": "code",
   "execution_count": null,
   "metadata": {},
   "outputs": [],
   "source": []
  }
 ],
 "metadata": {
  "file_extension": ".py",
  "kernelspec": {
   "display_name": "Python 3 (ipykernel)",
   "language": "python",
   "name": "python3"
  },
  "language_info": {
   "codemirror_mode": {
    "name": "ipython",
    "version": 3
   },
   "file_extension": ".py",
   "mimetype": "text/x-python",
   "name": "python",
   "nbconvert_exporter": "python",
   "pygments_lexer": "ipython3",
   "version": "3.10.2"
  },
  "mimetype": "text/x-python",
  "name": "python",
  "npconvert_exporter": "python",
  "pygments_lexer": "ipython3",
  "version": 3
 },
 "nbformat": 4,
 "nbformat_minor": 4
}

{
 "cells": [
  {
   "cell_type": "markdown",
   "metadata": {},
   "source": [
    "Загружаем картинку"
   ]
  },
  {
   "cell_type": "code",
   "execution_count": null,
   "metadata": {},
   "outputs": [],
   "source": [
    "import Images\n",
    "import ImageTransformations\n",
    "import LinearAlgebra\n",
    "\n",
    "fli = Images.load(\"relaxing_fly.png\")\n",
    "flm = convert(Array{Float16,2}, fli) * 2.0 .- 1.0\n",
    "fli"
   ]
  },
  {
   "cell_type": "markdown",
   "metadata": {},
   "source": [
    "Создаём базис, близкий к ортонормированному"
   ]
  },
  {
   "cell_type": "code",
   "execution_count": null,
   "metadata": {},
   "outputs": [],
   "source": [
    "BASIS_D1 = size(flm)[1]\n",
    "\n",
    "freqs = [16.0 * i / pi / BASIS_D1 for i in 0.5:0.5:BASIS_D1*2]\n",
    "phases = [0.0, pi/2.0]\n",
    "directions = [\n",
    "    [cos(a) sin(a)]\n",
    "    for a in 0:pi/16:pi/2\n",
    "]\n",
    "# directions = [[1 0], [0 1]]\n",
    "\n",
    "\n",
    "BASIS_SIZE = length(freqs) * length(phases) * length(directions)\n",
    "\n",
    "basis = [\n",
    "    [\n",
    "        sin(p + LinearAlgebra.dot([x y], d) * f)\n",
    "        for x in 1:BASIS_D1, y in 1:BASIS_D1\n",
    "    ]\n",
    "    for f in freqs, p in phases, d in directions\n",
    "]\n",
    ";"
   ]
  },
  {
   "cell_type": "code",
   "execution_count": null,
   "metadata": {},
   "outputs": [],
   "source": [
    "print(BASIS_SIZE)\n",
    "Images.Gray.((basis[3] .+ 1.0) / 2.0)"
   ]
  },
  {
   "cell_type": "markdown",
   "metadata": {},
   "source": [
    "В качестве «координат» берём скалярное произведение"
   ]
  },
  {
   "cell_type": "code",
   "execution_count": null,
   "metadata": {},
   "outputs": [],
   "source": [
    "coeffs = (LinearAlgebra.dot(b, flm) for b in basis);"
   ]
  },
  {
   "cell_type": "code",
   "execution_count": null,
   "metadata": {},
   "outputs": [],
   "source": [
    "rflm = sum(c * b for (c, b) in zip(coeffs, basis));"
   ]
  },
  {
   "cell_type": "markdown",
   "metadata": {},
   "source": [
    "Нормируем результат"
   ]
  },
  {
   "cell_type": "code",
   "execution_count": null,
   "metadata": {},
   "outputs": [],
   "source": [
    "zrflm = rflm - ones(BASIS_D1, BASIS_D1) * minimum(rflm)\n",
    "nrflm =  zrflm / maximum(zrflm)\n",
    ";"
   ]
  },
  {
   "cell_type": "code",
   "execution_count": null,
   "metadata": {},
   "outputs": [],
   "source": [
    "rfli = Images.Gray.(nrflm)"
   ]
  }
 ],
 "metadata": {
  "kernelspec": {
   "display_name": "Julia 1.5.2",
   "language": "julia",
   "name": "julia-1.5"
  },
  "language_info": {
   "file_extension": ".jl",
   "mimetype": "application/julia",
   "name": "julia",
   "version": "1.5.2"
  }
 },
 "nbformat": 4,
 "nbformat_minor": 4
}

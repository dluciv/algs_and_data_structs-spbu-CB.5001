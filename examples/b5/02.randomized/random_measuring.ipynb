{
 "metadata": {
  "language_info": {
   "codemirror_mode": {
    "name": "ipython",
    "version": 3
   },
   "file_extension": ".py",
   "mimetype": "text/x-python",
   "name": "python",
   "nbconvert_exporter": "python",
   "pygments_lexer": "ipython3",
   "version": "3.8.5-final"
  },
  "orig_nbformat": 2,
  "kernelspec": {
   "name": "Python 3.8.5 64-bit",
   "display_name": "Python 3.8.5 64-bit",
   "metadata": {
    "interpreter": {
     "hash": "767d51c1340bd893661ea55ea3124f6de3c7a262a8b4abca0554b478b1e2ff90"
    }
   }
  }
 },
 "nbformat": 4,
 "nbformat_minor": 2,
 "cells": [
  {
   "source": [
    "# Пусть...\n",
    "\n",
    "Мы хотим вычислить `omega` — коеффициент упругости пружины.\n",
    "\n",
    "Для этого мы:\n",
    "\n",
    "* дёргаем за пружину с одинаковой силой\n",
    "* смотрим, насколько сильно она растянулась (измерения с помехой)\n",
    "* делим\n",
    "* усредняем "
   ],
   "cell_type": "markdown",
   "metadata": {}
  },
  {
   "cell_type": "code",
   "execution_count": 1,
   "metadata": {},
   "outputs": [],
   "source": [
    "import pandas as pd\n",
    "import numpy as np\n",
    "\n",
    "size = 10\n",
    "\n",
    "inputs = pd.Series(np.ones(10))\n",
    "noise = pd.Series(np.random.random(size) - 0.5)"
   ]
  },
  {
   "source": [
    "Делаем вид, что измеряем растяжение"
   ],
   "cell_type": "markdown",
   "metadata": {}
  },
  {
   "cell_type": "code",
   "execution_count": 2,
   "metadata": {},
   "outputs": [],
   "source": [
    "outputs = 3.0 * inputs + noise  # omega = 3.0, но мы этого не знаем, и хотим измерить"
   ]
  },
  {
   "cell_type": "code",
   "execution_count": 3,
   "metadata": {},
   "outputs": [
    {
     "output_type": "execute_result",
     "data": {
      "text/plain": "count    10.000000\nmean      3.125363\nstd       0.303578\nmin       2.567971\n25%       2.871152\n50%       3.261554\n75%       3.377820\nmax       3.427495\ndtype: float64"
     },
     "metadata": {},
     "execution_count": 3
    }
   ],
   "source": [
    "omega = (outputs / inputs)\n",
    "omega.describe()"
   ]
  },
  {
   "source": [
    "А если помеха смещённая, и мы (якобы) не знаем, насколько?"
   ],
   "cell_type": "markdown",
   "metadata": {}
  },
  {
   "cell_type": "code",
   "execution_count": 4,
   "metadata": {},
   "outputs": [],
   "source": [
    "noise += 1.0\n",
    "outputs = 3.0 * inputs + noise\n",
    "omega = (outputs / inputs)"
   ]
  },
  {
   "cell_type": "code",
   "execution_count": 5,
   "metadata": {},
   "outputs": [
    {
     "output_type": "execute_result",
     "data": {
      "text/plain": "count    10.000000\nmean      4.125363\nstd       0.303578\nmin       3.567971\n25%       3.871152\n50%       4.261554\n75%       4.377820\nmax       4.427495\ndtype: float64"
     },
     "metadata": {},
     "execution_count": 5
    }
   ],
   "source": [
    "omega.describe()"
   ]
  },
  {
   "source": [
    "Наше смеение попало в результат измерения! Попробуем защититься."
   ],
   "cell_type": "markdown",
   "metadata": {}
  },
  {
   "cell_type": "code",
   "execution_count": 6,
   "metadata": {},
   "outputs": [
    {
     "output_type": "execute_result",
     "data": {
      "text/plain": "count    10.000000\nmean      3.402475\nstd       1.148622\nmin       1.593535\n25%       2.414652\n50%       3.828117\n75%       4.290145\nmax       4.427495\ndtype: float64"
     },
     "metadata": {},
     "execution_count": 6
    }
   ],
   "source": [
    "inputs = pd.Series(np.random.choice([-1, 1], size))\n",
    "outputs = 3.0 * inputs + noise\n",
    "omega = (outputs / inputs)\n",
    "omega.describe()"
   ]
  },
  {
   "source": [
    "Получается, дисперсия у нас выросла, зато среднее получилось не сильно хуже, чем было!"
   ],
   "cell_type": "markdown",
   "metadata": {}
  }
 ]
}
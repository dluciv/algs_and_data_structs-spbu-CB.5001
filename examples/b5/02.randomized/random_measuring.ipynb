{
 "cells": [
  {
   "cell_type": "markdown",
   "metadata": {},
   "source": [
    "# Пусть...\n",
    "\n",
    "Мы хотим вычислить `omega` — коеффициент упругости пружины.\n",
    "\n",
    "Для этого мы:\n",
    "\n",
    "* дёргаем за пружину с одинаковой силой\n",
    "* смотрим, насколько сильно она растянулась (измерения с помехой)\n",
    "* делим\n",
    "* усредняем "
   ]
  },
  {
   "cell_type": "code",
   "execution_count": null,
   "metadata": {},
   "outputs": [],
   "source": [
    "import pandas as pd\n",
    "import numpy as np\n",
    "\n",
    "size = 100\n",
    "\n",
    "inputs = pd.Series(np.ones(size))\n",
    "noise = pd.Series((np.random.random(size) - 0.5) / 2)"
   ]
  },
  {
   "cell_type": "markdown",
   "metadata": {},
   "source": [
    "Делаем вид, что измеряем растяжение"
   ]
  },
  {
   "cell_type": "code",
   "execution_count": null,
   "metadata": {},
   "outputs": [],
   "source": [
    "outputs = 3.0 * inputs + noise  # omega = 3.0, но мы этого не знаем, и хотим измерить"
   ]
  },
  {
   "cell_type": "code",
   "execution_count": null,
   "metadata": {},
   "outputs": [],
   "source": [
    "omega = (outputs / inputs)\n",
    "omega.describe()"
   ]
  },
  {
   "cell_type": "markdown",
   "metadata": {},
   "source": [
    "А если помеха смещённая, и мы (якобы) не знаем, насколько?"
   ]
  },
  {
   "cell_type": "code",
   "execution_count": null,
   "metadata": {},
   "outputs": [],
   "source": [
    "noise += 0.5\n",
    "outputs = 3.0 * inputs + noise\n",
    "omega = (outputs / inputs)"
   ]
  },
  {
   "cell_type": "code",
   "execution_count": null,
   "metadata": {},
   "outputs": [],
   "source": [
    "omega.describe()"
   ]
  },
  {
   "cell_type": "markdown",
   "metadata": {},
   "source": [
    "Наше смещение попало в результат измерения! Попробуем защититься."
   ]
  },
  {
   "cell_type": "code",
   "execution_count": null,
   "metadata": {},
   "outputs": [],
   "source": [
    "# inputs = pd.Series(np.random.choice([-1, 1], size))\n",
    "inputs = pd.Series((np.random.random(size) - 0.5) * 10.0)\n",
    "outputs = 3.0 * inputs + noise\n",
    "omega = (outputs / inputs)\n",
    "omega.describe()"
   ]
  },
  {
   "cell_type": "markdown",
   "metadata": {},
   "source": [
    "Получается, дисперсия у нас выросла, зато среднее получилось не сильно хуже, чем было!"
   ]
  }
 ],
 "metadata": {
  "kernelspec": {
   "display_name": "Python 3",
   "language": "python",
   "name": "python3"
  },
  "language_info": {
   "codemirror_mode": {
    "name": "ipython",
    "version": 3
   },
   "file_extension": ".py",
   "mimetype": "text/x-python",
   "name": "python",
   "nbconvert_exporter": "python",
   "pygments_lexer": "ipython3",
   "version": "3.8.5"
  }
 },
 "nbformat": 4,
 "nbformat_minor": 4
}

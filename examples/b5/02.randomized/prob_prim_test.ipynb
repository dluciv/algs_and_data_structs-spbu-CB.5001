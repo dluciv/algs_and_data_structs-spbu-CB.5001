{
 "cells": [
  {
   "cell_type": "code",
   "execution_count": null,
   "metadata": {},
   "outputs": [],
   "source": [
    "using Primes\n",
    "using Printf\n",
    "using ProgressBars"
   ]
  },
  {
   "cell_type": "markdown",
   "metadata": {},
   "source": [
    "# Тест Ферма\n",
    "\n",
    "https://rosettacode.org/wiki/Fermat_numbers#Julia\n"
   ]
  },
  {
   "cell_type": "code",
   "execution_count": null,
   "metadata": {},
   "outputs": [],
   "source": [
    "\"\"\"\n",
    "Возведение в степень по модулю, т.е. \\$\\\\mathit{base}^{\\\\mathit{power}} \\\\operatorname{mod} \\\\mathit{dmod}\\$\n",
    "\n",
    "    powmod(base, power, dmod)\n",
    "\n",
    "`base` — что возводим в степень\n",
    "`power` — степень\n",
    "`dmod` — по какому модулю\n",
    "\"\"\"\n",
    "function powmod(base, power, dmod)\n",
    "    result = 1\n",
    "    while power > 0\n",
    "        if isodd(power)\n",
    "            result = result * base % dmod\n",
    "        end\n",
    "        power >>= 1\n",
    "        base = base * base % dmod\n",
    "    end\n",
    "    result\n",
    "end\n",
    "\n",
    "\"\"\"\n",
    "Вычисление символя Якоби \\$\\\\left(\\\\frac{a}{n}\\\\right)\\$\n",
    "\n",
    "    jakobi(a, n)\n",
    "\n",
    "[Реализация](https://rosettacode.org/wiki/Jacobi_symbol#Julia)\n",
    "\"\"\"\n",
    "function jacobi(a, n)\n",
    "    a %= n\n",
    "    result = 1\n",
    "    while a != 0\n",
    "        while iseven(a)\n",
    "            a ÷= 2\n",
    "            ((n % 8) in [3, 5]) && (result *= -1)\n",
    "        end\n",
    "        a, n = n, a\n",
    "        (a % 4 == n % 4 == 3) && (result *= -1)\n",
    "        a %= n\n",
    "    end\n",
    "    return n == 1 ? result : 0\n",
    "end\n",
    ";"
   ]
  },
  {
   "cell_type": "code",
   "execution_count": null,
   "metadata": {},
   "outputs": [],
   "source": [
    "\"\"\"\n",
    "Тест Ферма с длинной арифметикой\n",
    "\"\"\"\n",
    "function fpprime(n, iterations = 10)\n",
    "    for a in rand(2:n-1, iterations)\n",
    "        if BigInt(a)^(n - 1) % n != 1\n",
    "            return false\n",
    "        end\n",
    "    end\n",
    "    return true\n",
    "end\n",
    "\n",
    "\"\"\"\n",
    "Тест Ферма без явной длинной арифмметики, но потенциально бесполезный =)\n",
    "\"\"\"\n",
    "function fpprimem(n, iterations = 10)\n",
    "    for a in rand(2:n-1, iterations)\n",
    "        if powmod(a, n - 1, n) != 1\n",
    "            return false\n",
    "        end\n",
    "    end\n",
    "    return true\n",
    "end\n",
    "; "
   ]
  },
  {
   "cell_type": "code",
   "execution_count": null,
   "metadata": {},
   "outputs": [],
   "source": [
    "for n in ProgressBar(3:3000000)\n",
    "    if fpprimem(n) != Primes.isprime(n)\n",
    "        println(\"Fail on $(n)\")\n",
    "    end\n",
    "end"
   ]
  },
  {
   "cell_type": "markdown",
   "metadata": {},
   "source": [
    "## Числа Кармайкла\n",
    "\n",
    "$n$-е число — $2^{2^n}$"
   ]
  },
  {
   "cell_type": "code",
   "execution_count": null,
   "metadata": {},
   "outputs": [],
   "source": [
    "\"\"\"\n",
    "Тест Соловея-Штрассена\n",
    "\n",
    "    sstprimem(n, [iterations])\n",
    "\n",
    "сообщает, что `n` — простое с вероятностью \\$1 - 2^{-\\\\mathit{iterations}}\\$\n",
    "\"\"\"\n",
    "function sstprimem(n, iterations = 10)\n",
    "    if iseven(n)\n",
    "        return false\n",
    "    end\n",
    "\n",
    "    for a in rand(2:n-1, iterations)\n",
    "        if gcd(n, a) != 1\n",
    "            return false\n",
    "        elseif  powmod(a, (n - 1)÷2, n) == jacobi(a, n) % n\n",
    "            return false\n",
    "        end \n",
    "    end\n",
    "    return true\n",
    "end\n",
    ";"
   ]
  },
  {
   "cell_type": "code",
   "execution_count": null,
   "metadata": {},
   "outputs": [],
   "source": [
    "for n in ProgressBar(3:3000000)\n",
    "    if sstprimem(n) && !Primes.isprime(n)\n",
    "        println(\"Fail on $(n)\")\n",
    "    end\n",
    "end"
   ]
  },
  {
   "cell_type": "code",
   "execution_count": null,
   "metadata": {},
   "outputs": [],
   "source": []
  },
  {
   "cell_type": "code",
   "execution_count": null,
   "metadata": {},
   "outputs": [],
   "source": []
  }
 ],
 "metadata": {
  "kernelspec": {
   "display_name": "Julia 1.5.2",
   "language": "julia",
   "name": "julia-1.5"
  },
  "language_info": {
   "file_extension": ".jl",
   "mimetype": "application/julia",
   "name": "julia",
   "version": "1.5.2"
  }
 },
 "nbformat": 4,
 "nbformat_minor": 4
}

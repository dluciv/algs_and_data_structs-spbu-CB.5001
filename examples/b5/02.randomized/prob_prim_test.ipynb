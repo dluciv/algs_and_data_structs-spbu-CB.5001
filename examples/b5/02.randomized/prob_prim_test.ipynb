{
 "cells": [
  {
   "cell_type": "markdown",
   "metadata": {},
   "source": [
    "# Тест Ферма\n",
    "\n",
    "**Малая теорема Ферма** $\\forall a, p:$ если $p$ простое, то $ a^{p − 1} \\equiv 1 \\mod p$.\n",
    "\n",
    "https://rosettacode.org/wiki/Fermat_numbers#Julia\n",
    "\n",
    "Числа Ферма --"
   ]
  },
  {
   "cell_type": "code",
   "execution_count": 22,
   "metadata": {},
   "outputs": [
    {
     "data": {
      "text/plain": [
       "factorfermats (generic function with 2 methods)"
      ]
     },
     "execution_count": 22,
     "metadata": {},
     "output_type": "execute_result"
    }
   ],
   "source": [
    "using Primes\n",
    "using Printf\n",
    " \n",
    "fermat(n) = BigInt(2)^BigInt(2)^n + 1\n",
    " \n",
    "function factorfermats(max, dofactor=false) \n",
    "    for n in 0:max\n",
    "        fm = fermat(n)        \n",
    "        @printf(\"Число Ферма F(%d) = %d\", n, fm)\n",
    "        println(if dofactor\n",
    "            \": $(factor(fm))\"\n",
    "        else\n",
    "            \"\"\n",
    "        end)\n",
    "    end\n",
    "end"
   ]
  },
  {
   "cell_type": "code",
   "execution_count": 23,
   "metadata": {},
   "outputs": [
    {
     "name": "stdout",
     "output_type": "stream",
     "text": [
      "Число Ферма F(0) = 3:()\n",
      "Число Ферма F(1) = 5:()\n",
      "Число Ферма F(2) = 17:()\n",
      "Число Ферма F(3) = 257:()\n",
      "Число Ферма F(4) = 65537:()\n",
      "Число Ферма F(5) = 4294967297:()\n",
      "Число Ферма F(6) = 18446744073709551617:()\n",
      "Число Ферма F(7) = 340282366920938463463374607431768211457:()\n",
      "Число Ферма F(8) = 115792089237316195423570985008687907853269984665640564039457584007913129639937:()\n"
     ]
    }
   ],
   "source": [
    "factorfermats(8)"
   ]
  },
  {
   "cell_type": "code",
   "execution_count": null,
   "metadata": {},
   "outputs": [],
   "source": [
    "factorfermats(7, true)"
   ]
  },
  {
   "cell_type": "code",
   "execution_count": null,
   "metadata": {},
   "outputs": [],
   "source": []
  }
 ],
 "metadata": {
  "kernelspec": {
   "display_name": "Julia 1.5.1",
   "language": "julia",
   "name": "julia-1.5"
  },
  "language_info": {
   "file_extension": ".jl",
   "mimetype": "application/julia",
   "name": "julia",
   "version": "1.5.1"
  }
 },
 "nbformat": 4,
 "nbformat_minor": 4
}

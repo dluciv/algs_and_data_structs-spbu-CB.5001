{
 "cells": [
  {
   "cell_type": "code",
   "execution_count": null,
   "metadata": {},
   "outputs": [],
   "source": [
    "using Primes\n",
    "using Printf\n",
    "using ProgressBars\n",
    "using Mods"
   ]
  },
  {
   "cell_type": "markdown",
   "metadata": {},
   "source": [
    "# Тест Ферма\n",
    "\n",
    "https://rosettacode.org/wiki/Fermat_numbers#Julia\n"
   ]
  },
  {
   "cell_type": "code",
   "execution_count": null,
   "metadata": {},
   "outputs": [],
   "source": [
    "\"\"\"\n",
    "Вычисление символа Якоби \\$\\\\left(\\\\frac{a}{n}\\\\right)\\$\n",
    "\n",
    "    jakobi(a, n)\n",
    "\n",
    "[Реализация](https://rosettacode.org/wiki/Jacobi_symbol#Julia)\n",
    "\"\"\"\n",
    "function jacobi(a, n)\n",
    "    a %= n\n",
    "    result = 1\n",
    "    while a != 0\n",
    "        while iseven(a)\n",
    "            a ÷= 2\n",
    "            ((n % 8) in [3, 5]) && (result *= -1)\n",
    "        end\n",
    "        a, n = n, a\n",
    "        (a % 4 == n % 4 == 3) && (result *= -1)\n",
    "        a %= n\n",
    "    end\n",
    "    return n == 1 ? result : 0\n",
    "end\n",
    ";"
   ]
  },
  {
   "cell_type": "code",
   "execution_count": null,
   "metadata": {},
   "outputs": [],
   "source": [
    "\"\"\"\n",
    "Тест Ферма с длинной арифметикой\n",
    "\"\"\"\n",
    "function fpprime(n; iterations = 10, only_consider_coprimes=false)\n",
    "    for a in rand(2:n-1, iterations)\n",
    "        if only_consider_coprimes && gcd(n, a) != 1\n",
    "            # Вообще, если gcd(n, a) != 1, можно и сразу false вернуть, но gcd(n, a) здесь не для этого,\n",
    "            # а как раз для того, чтобы помочь тесту Ферма обмануться (см. ниже числа Кармайкла).\n",
    "            # В \"боевом\" режиме таким пользоваться конечно нельзя, т.к. gcd небыстрый.\n",
    "            continue\n",
    "        end\n",
    "        if mod(big(a)^(n - 1), n) != 1\n",
    "            return false\n",
    "        end\n",
    "    end\n",
    "    return true\n",
    "end\n",
    "\n",
    "\"\"\"\n",
    "Тест Ферма без явной длинной арифмметики, но потенциально бесполезный =)\n",
    "\"\"\"\n",
    "function fpprimem(n; iterations = 10, only_consider_coprimes=false)\n",
    "    for a in rand(2:n-1, iterations)\n",
    "        if only_consider_coprimes && gcd(n, a) != 1\n",
    "            # Аналогично, если gcd(n, a) != 1, можно и сразу false вернуть, но gcd(n, a) здесь не для этого,\n",
    "            # а как раз для того, чтобы помочь тесту Ферма обмануться (см. ниже числа Кармайкла).\n",
    "            # В \"боевом\" режиме таким пользоваться конечно нельзя, т.к. gcd небыстрый.\n",
    "            continue\n",
    "        end\n",
    "        if powermod(a, n - 1, n) != 1 # Mod(a, n) ^ (n - 1) != 1  # Slooooow\n",
    "            return false\n",
    "        end\n",
    "    end\n",
    "    return true\n",
    "end\n",
    ";"
   ]
  },
  {
   "cell_type": "code",
   "execution_count": null,
   "metadata": {},
   "outputs": [],
   "source": [
    "for n in ProgressBar(3:3000000)\n",
    "    if fpprimem(n) != Primes.isprime(n)\n",
    "        println(\"Fail on $(n)\")\n",
    "    end\n",
    "end"
   ]
  },
  {
   "cell_type": "markdown",
   "metadata": {},
   "source": [
    "## Числа Кармайкла\n",
    "\n",
    "**Число Кармайкла** — составное число $n$, которое удовлетворяет $а^{n-1}\\equiv 1\\pmod{n}$ для всех целых $а$, взаимно простых $n$\n",
    "\n",
    "Первые — 561, 1105, 1729, 2465, 2821, 6601, 8911, 10585, 15841, 29341, 41041, 46657, 52633, 62745, 63973, 75361. Если среди случайных не встретилось не взаимно простых с числами Кармайкла, тест Ферма на них ошибается"
   ]
  },
  {
   "cell_type": "code",
   "execution_count": null,
   "metadata": {},
   "outputs": [],
   "source": [
    "first_сarmichael_numbers = [561, 1105, 1729, 2465, 2821, 6601, 8911, 10585, 15841, 29341, 41041, 46657, 52633, 62745, 63973, 75361]\n",
    "\n",
    "for n in first_сarmichael_numbers\n",
    "    println(\"На $(n) $(if fpprimem(n, only_consider_coprimes=false) \"\" else \"не \" end) ошибся.\")\n",
    "end"
   ]
  },
  {
   "cell_type": "code",
   "execution_count": null,
   "metadata": {},
   "outputs": [],
   "source": [
    "\"\"\"\n",
    "Тест Соловея-Штрассена\n",
    "\n",
    "    sstprimem(n; [iterations])\n",
    "\n",
    "сообщает, что `n` — простое с вероятностью \\$1 - 2^{-\\\\mathit{iterations}}\\$\n",
    "\"\"\"\n",
    "function sstprimem(n; iterations = 10)\n",
    "    if iseven(n)\n",
    "        return false\n",
    "    end\n",
    "\n",
    "    for a in rand(2:n-1, iterations)\n",
    "        x = jacobi(a, n)\n",
    "        if x == 0 || powermod(a, (n-1)÷2, n) != mod(x, n) #  mod(big(a) ^ ((n - 1)÷2) - x, n) != 0\n",
    "            return false\n",
    "        end \n",
    "    end\n",
    "    return true\n",
    "end\n",
    ";"
   ]
  },
  {
   "cell_type": "code",
   "execution_count": null,
   "metadata": {},
   "outputs": [],
   "source": [
    "for n in ProgressBar(3:76000)\n",
    "    if sstprimem(n) != Primes.isprime(n)\n",
    "        println(\"Fail on $(n)\")\n",
    "    end\n",
    "end"
   ]
  },
  {
   "cell_type": "code",
   "execution_count": null,
   "metadata": {},
   "outputs": [],
   "source": [
    "for _ in 1:10000\n",
    "    for n in first_сarmichael_numbers\n",
    "        if sstprimem(n)\n",
    "            println(\"Тест Соловея-Штрассена ошибся на $(n)!!!\")\n",
    "        end\n",
    "    end\n",
    "end"
   ]
  },
  {
   "cell_type": "code",
   "execution_count": null,
   "metadata": {},
   "outputs": [],
   "source": []
  }
 ],
 "metadata": {
  "kernelspec": {
   "display_name": "Julia (8 threads) 1.6.1",
   "language": "julia",
   "name": "julia-(8-threads)-1.6"
  },
  "language_info": {
   "file_extension": ".jl",
   "mimetype": "application/julia",
   "name": "julia",
   "version": "1.6.3"
  }
 },
 "nbformat": 4,
 "nbformat_minor": 4
}

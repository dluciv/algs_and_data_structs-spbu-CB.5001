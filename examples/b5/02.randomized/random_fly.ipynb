{
 "cells": [
  {
   "cell_type": "markdown",
   "metadata": {},
   "source": [
    "Загружаем картинку"
   ]
  },
  {
   "cell_type": "code",
   "execution_count": 1,
   "metadata": {},
   "outputs": [
    {
     "data": {
      "image/png": "[encoded data removed]",
      "text/plain": [
       "64×64 Array{Gray{N0f8},2} with eltype ColorTypes.Gray{FixedPointNumbers.Normed{UInt8,8}}:\n",
       " Gray{N0f8}(0.553)  Gray{N0f8}(0.816)  …  Gray{N0f8}(1.0)\n",
       " Gray{N0f8}(0.812)  Gray{N0f8}(0.894)     Gray{N0f8}(0.988)\n",
       " Gray{N0f8}(0.878)  Gray{N0f8}(0.945)     Gray{N0f8}(0.839)\n",
       " Gray{N0f8}(0.937)  Gray{N0f8}(0.98)      Gray{N0f8}(0.8)\n",
       " Gray{N0f8}(0.98)   Gray{N0f8}(0.996)     Gray{N0f8}(0.914)\n",
       " Gray{N0f8}(0.984)  Gray{N0f8}(0.996)  …  Gray{N0f8}(0.961)\n",
       " Gray{N0f8}(0.996)  Gray{N0f8}(0.996)     Gray{N0f8}(0.988)\n",
       " Gray{N0f8}(1.0)    Gray{N0f8}(1.0)       Gray{N0f8}(0.933)\n",
       " Gray{N0f8}(1.0)    Gray{N0f8}(1.0)       Gray{N0f8}(0.976)\n",
       " Gray{N0f8}(1.0)    Gray{N0f8}(1.0)       Gray{N0f8}(0.976)\n",
       " Gray{N0f8}(1.0)    Gray{N0f8}(1.0)    …  Gray{N0f8}(0.941)\n",
       " Gray{N0f8}(1.0)    Gray{N0f8}(1.0)       Gray{N0f8}(0.973)\n",
       " Gray{N0f8}(1.0)    Gray{N0f8}(1.0)       Gray{N0f8}(0.929)\n",
       " ⋮                                     ⋱  \n",
       " Gray{N0f8}(0.973)  Gray{N0f8}(0.984)     Gray{N0f8}(0.969)\n",
       " Gray{N0f8}(0.988)  Gray{N0f8}(0.98)      Gray{N0f8}(0.973)\n",
       " Gray{N0f8}(0.98)   Gray{N0f8}(0.98)      Gray{N0f8}(0.984)\n",
       " Gray{N0f8}(0.984)  Gray{N0f8}(0.988)  …  Gray{N0f8}(0.969)\n",
       " Gray{N0f8}(0.992)  Gray{N0f8}(0.992)     Gray{N0f8}(0.969)\n",
       " Gray{N0f8}(0.996)  Gray{N0f8}(0.988)     Gray{N0f8}(0.969)\n",
       " Gray{N0f8}(0.996)  Gray{N0f8}(0.984)     Gray{N0f8}(0.973)\n",
       " Gray{N0f8}(0.988)  Gray{N0f8}(0.988)     Gray{N0f8}(0.961)\n",
       " Gray{N0f8}(0.933)  Gray{N0f8}(0.984)  …  Gray{N0f8}(0.957)\n",
       " Gray{N0f8}(0.741)  Gray{N0f8}(0.898)     Gray{N0f8}(0.953)\n",
       " Gray{N0f8}(0.855)  Gray{N0f8}(0.706)     Gray{N0f8}(0.965)\n",
       " Gray{N0f8}(0.98)   Gray{N0f8}(0.898)     Gray{N0f8}(0.965)"
      ]
     },
     "execution_count": 1,
     "metadata": {},
     "output_type": "execute_result"
    }
   ],
   "source": [
    "import Images\n",
    "import ImageTransformations\n",
    "import LinearAlgebra\n",
    "\n",
    "fli = Images.load(\"relaxing_fly.png\")\n",
    "flm = convert(Array{Float32,2}, fli)\n",
    "fli"
   ]
  },
  {
   "cell_type": "markdown",
   "metadata": {},
   "source": [
    "Создаём базис. Базис не ортогональный, но даже нормированный нам что-то даст"
   ]
  },
  {
   "cell_type": "code",
   "execution_count": 19,
   "metadata": {},
   "outputs": [],
   "source": [
    "BASIS_D1 = size(flm)[1]\n",
    "BASIS_SIZE = 32768\n",
    "\n",
    "basis = [\n",
    "    convert(Array{Float16, 2}, ImageTransformations.imresize(\n",
    "        rand(Bool,\n",
    "            rand(2:11),\n",
    "            rand(2:11)\n",
    "        ),\n",
    "        BASIS_D1, BASIS_D1\n",
    "    ))\n",
    "    for _ in 1:BASIS_SIZE\n",
    "]\n",
    "\n",
    "for i in 1:BASIS_SIZE\n",
    "    basis[i] /= sum(basis[i])\n",
    "    if isnan(basis[i][1,1])\n",
    "        basis[i] = zeros(Float16, BASIS_D1, BASIS_D1)\n",
    "    end\n",
    "end\n",
    "# basis"
   ]
  },
  {
   "cell_type": "markdown",
   "metadata": {},
   "source": [
    "В качестве «координат» берём скалярное произведение хотя базис и не ортогональный"
   ]
  },
  {
   "cell_type": "code",
   "execution_count": 26,
   "metadata": {},
   "outputs": [],
   "source": [
    "coeffs = (LinearAlgebra.dot(b, flm) for b in basis);"
   ]
  },
  {
   "cell_type": "code",
   "execution_count": 27,
   "metadata": {},
   "outputs": [],
   "source": [
    "rflm = sum(c * b for (c, b) in zip(coeffs, basis));"
   ]
  },
  {
   "cell_type": "markdown",
   "metadata": {},
   "source": [
    "Нормируем результат"
   ]
  },
  {
   "cell_type": "code",
   "execution_count": 31,
   "metadata": {},
   "outputs": [],
   "source": [
    "zrflm = rflm - ones(BASIS_D1, BASIS_D1) * minimum(rflm)\n",
    "nrflm =  zrflm / maximum(zrflm)\n",
    ";"
   ]
  },
  {
   "cell_type": "code",
   "execution_count": 32,
   "metadata": {},
   "outputs": [
    {
     "data": {
      "image/png": "[encoded data removed]",
      "text/plain": [
       "64×64 Array{Gray{Float64},2} with eltype ColorTypes.Gray{Float64}:\n",
       " Gray{Float64}(0.801274)  Gray{Float64}(0.801274)  …  Gray{Float64}(0.266178)\n",
       " Gray{Float64}(0.801274)  Gray{Float64}(0.801274)     Gray{Float64}(0.266178)\n",
       " Gray{Float64}(0.801274)  Gray{Float64}(0.801274)     Gray{Float64}(0.266178)\n",
       " Gray{Float64}(0.807708)  Gray{Float64}(0.807708)     Gray{Float64}(0.259763)\n",
       " Gray{Float64}(0.817838)  Gray{Float64}(0.817838)     Gray{Float64}(0.238494)\n",
       " Gray{Float64}(0.823752)  Gray{Float64}(0.823752)  …  Gray{Float64}(0.220326)\n",
       " Gray{Float64}(0.830349)  Gray{Float64}(0.830349)     Gray{Float64}(0.201635)\n",
       " Gray{Float64}(0.838164)  Gray{Float64}(0.838164)     Gray{Float64}(0.183512)\n",
       " Gray{Float64}(0.841075)  Gray{Float64}(0.841075)     Gray{Float64}(0.1656)\n",
       " Gray{Float64}(0.836844)  Gray{Float64}(0.836844)     Gray{Float64}(0.149615)\n",
       " Gray{Float64}(0.83692)   Gray{Float64}(0.83692)   …  Gray{Float64}(0.153611)\n",
       " Gray{Float64}(0.8369)    Gray{Float64}(0.8369)       Gray{Float64}(0.165723)\n",
       " Gray{Float64}(0.843743)  Gray{Float64}(0.843743)     Gray{Float64}(0.17396)\n",
       " ⋮                                                 ⋱  \n",
       " Gray{Float64}(0.858424)  Gray{Float64}(0.858424)     Gray{Float64}(0.719434)\n",
       " Gray{Float64}(0.827191)  Gray{Float64}(0.827191)     Gray{Float64}(0.723104)\n",
       " Gray{Float64}(0.804975)  Gray{Float64}(0.804975)     Gray{Float64}(0.717814)\n",
       " Gray{Float64}(0.784491)  Gray{Float64}(0.784491)  …  Gray{Float64}(0.694362)\n",
       " Gray{Float64}(0.786702)  Gray{Float64}(0.786702)     Gray{Float64}(0.691607)\n",
       " Gray{Float64}(0.788302)  Gray{Float64}(0.788302)     Gray{Float64}(0.691289)\n",
       " Gray{Float64}(0.792748)  Gray{Float64}(0.792748)     Gray{Float64}(0.689837)\n",
       " Gray{Float64}(0.804581)  Gray{Float64}(0.804581)     Gray{Float64}(0.689209)\n",
       " Gray{Float64}(0.819224)  Gray{Float64}(0.819224)  …  Gray{Float64}(0.687346)\n",
       " Gray{Float64}(0.827737)  Gray{Float64}(0.827737)     Gray{Float64}(0.69072)\n",
       " Gray{Float64}(0.827737)  Gray{Float64}(0.827737)     Gray{Float64}(0.69072)\n",
       " Gray{Float64}(0.827737)  Gray{Float64}(0.827737)     Gray{Float64}(0.69072)"
      ]
     },
     "execution_count": 32,
     "metadata": {},
     "output_type": "execute_result"
    }
   ],
   "source": [
    "rfli = Images.Gray.(nrflm)\n",
    "# Images.save(\"random_fly.png\", rfli)"
   ]
  }
 ],
 "metadata": {
  "kernelspec": {
   "display_name": "Julia 1.5.2",
   "language": "julia",
   "name": "julia-1.5"
  },
  "language_info": {
   "file_extension": ".jl",
   "mimetype": "application/julia",
   "name": "julia",
   "version": "1.5.2"
  }
 },
 "nbformat": 4,
 "nbformat_minor": 4
}

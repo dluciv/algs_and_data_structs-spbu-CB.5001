{
 "cells": [
  {
   "cell_type": "markdown",
   "metadata": {},
   "source": [
    "Загружаем картинку"
   ]
  },
  {
   "cell_type": "code",
   "execution_count": null,
   "metadata": {},
   "outputs": [],
   "source": [
    "import Images, LinearAlgebra, ProgressBars\n",
    "\n",
    "flm = convert(Array{Float16,2}, Images.load(\"relaxing_fly.png\")) * 2.0 .- 1.0\n",
    "BASIS_D1 = size(flm)[1]\n",
    "\n",
    "function m2nimg(m, normalize=true)\n",
    "    Images.Gray.(\n",
    "        if normalize\n",
    "            zm = m .- minimum(m)\n",
    "            zm / maximum(zm)\n",
    "        else\n",
    "            (m .+ 1.0) / 2.0\n",
    "        end\n",
    "    )\n",
    "end\n",
    "\n",
    "m2nimg(flm)"
   ]
  },
  {
   "cell_type": "markdown",
   "metadata": {},
   "source": [
    "Создаём базис — тригонометрический или случайный двух видов\n",
    "\n",
    "Можно бы было [красиво и с кнопочками](https://github.com/JuliaGizmos/Interact.jl#usage), но\n",
    "\n",
    "```\n",
    "@manipulate for basis_mode = Dict(\"Тригонометрический\" => 0, \"Случайный\" => 1, \"Случайный с частотами\" => 2)\n",
    "    ... // fails for UNIX non-root users right now\n",
    "end\n",
    "```"
   ]
  },
  {
   "cell_type": "code",
   "execution_count": null,
   "metadata": {},
   "outputs": [],
   "source": [
    "# Settings\n",
    "\n",
    "@enum Basis begin\n",
    "    trigonometric0 = 0\n",
    "    trigonometric1 = 1\n",
    "    randomized = 2\n",
    "end\n",
    "\n",
    "basis_type = trigonometric0\n",
    "\n",
    "rand_basis_size = 16384\n",
    "rand_freqdown = false\n",
    "rand_fuzzy = true\n",
    ";"
   ]
  },
  {
   "cell_type": "code",
   "execution_count": null,
   "metadata": {},
   "outputs": [],
   "source": [
    "function gen_trig_basis_0()\n",
    "    freqs = [hn * 2 * pi / BASIS_D1 for hn in 1:BASIS_D1]\n",
    "    phases = [0.0, pi/2.0]\n",
    "    directions = [ [cos(a) sin(a)] for a in 0:pi/16:pi/2 ]\n",
    "\n",
    "    [\n",
    "        [\n",
    "            sin((p + LinearAlgebra.dot([x y], d)) * f)\n",
    "            for x in 1:BASIS_D1, y in 1:BASIS_D1\n",
    "        ]\n",
    "        for f in ProgressBars.ProgressBar(freqs) for p in phases for d in directions\n",
    "    ]\n",
    "end\n",
    "\n",
    "function gen_trig_basis_1()\n",
    "    freqs = [hn * 2 * pi / BASIS_D1 for hn in 1:BASIS_D1]\n",
    "    phases = [0.0, pi/2.0]\n",
    "    \n",
    "    [\n",
    "        [\n",
    "            sin((xp + x) * xf) * sin((yp + y) * yf)\n",
    "            for x in 1:BASIS_D1, y in 1:BASIS_D1\n",
    "        ]\n",
    "        for xf in ProgressBars.ProgressBar(freqs) for yf in freqs for xp in phases for yp in phases\n",
    "    ]\n",
    "end\n",
    "\n",
    "function roundscale(v::Integer, ss::Integer, ts::Integer)::Integer\n",
    "    Int(round((v - 1) * (ts - 1) / (ss - 1) + 1))  # arrr those 1:sizeof indices...\n",
    "end\n",
    "\n",
    "function scale2Dnearest(arr2d, th, tw)\n",
    "    sh, sw = size(arr2d)\n",
    "    if sh == th && sw == tw\n",
    "        arr2d\n",
    "    else\n",
    "        [\n",
    "            arr2d[roundscale(tr, th, sh), roundscale(tc, tw, sw)]\n",
    "            for tc in 1:tw, tr in 1:th\n",
    "        ]\n",
    "    end\n",
    "end\n",
    "\n",
    "function gen_random_basis()\n",
    "    bbsz = if rand_freqdown\n",
    "        (()-> rand(2:BASIS_D1))\n",
    "    else\n",
    "        (()-> BASIS_D1)\n",
    "    end\n",
    "    \n",
    "    bpixfun = if rand_fuzzy\n",
    "        (()->rand() * 2.0 - 1.0)\n",
    "    else\n",
    "        (()->[Float16(-1.0) Float16(1.0)][rand(1:end)])\n",
    "    end\n",
    "\n",
    "    [\n",
    "        scale2Dnearest([\n",
    "            bpixfun()\n",
    "            for x in 1:bbsz(), y in 1:bbsz()\n",
    "        ], BASIS_D1, BASIS_D1) for _ in ProgressBars.ProgressBar(1:rand_basis_size)\n",
    "    ]\n",
    "end\n",
    "\n",
    "basis = if basis_type == trigonometric0\n",
    "    gen_trig_basis_0()\n",
    "elseif basis_type == trigonometric1\n",
    "    gen_trig_basis_1()\n",
    "elseif basis_type == randomized\n",
    "    gen_random_basis()\n",
    "else\n",
    "    []\n",
    "end\n",
    ";"
   ]
  },
  {
   "cell_type": "code",
   "execution_count": null,
   "metadata": {},
   "outputs": [],
   "source": [
    "print(length(basis))\n",
    "display(m2nimg(basis[10]))\n",
    "display(m2nimg(basis[80]))\n",
    "display(m2nimg(basis[250]))"
   ]
  },
  {
   "cell_type": "markdown",
   "metadata": {},
   "source": [
    "В качестве «координат» берём скалярное произведение"
   ]
  },
  {
   "cell_type": "code",
   "execution_count": null,
   "metadata": {},
   "outputs": [],
   "source": [
    "coeffs = (LinearAlgebra.dot(b, flm) for b in basis);"
   ]
  },
  {
   "cell_type": "code",
   "execution_count": null,
   "metadata": {},
   "outputs": [],
   "source": [
    "rflm = sum(c * b for (c, b) in zip(coeffs, basis));"
   ]
  },
  {
   "cell_type": "markdown",
   "metadata": {},
   "source": [
    "Нормируем и выдаём результат"
   ]
  },
  {
   "cell_type": "code",
   "execution_count": null,
   "metadata": {},
   "outputs": [],
   "source": [
    "m2nimg(rflm, true)"
   ]
  },
  {
   "cell_type": "code",
   "execution_count": null,
   "metadata": {},
   "outputs": [],
   "source": []
  }
 ],
 "metadata": {
  "kernelspec": {
   "display_name": "Julia 1.5.2",
   "language": "julia",
   "name": "julia-1.5"
  },
  "language_info": {
   "file_extension": ".jl",
   "mimetype": "application/julia",
   "name": "julia",
   "version": "1.5.2"
  }
 },
 "nbformat": 4,
 "nbformat_minor": 4
}

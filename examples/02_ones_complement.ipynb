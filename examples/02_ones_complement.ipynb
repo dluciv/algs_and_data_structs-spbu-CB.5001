{
 "cells": [
  {
   "cell_type": "markdown",
   "metadata": {},
   "source": [
    "# Обратный код\n",
    "\n",
    "(One's complement)"
   ]
  },
  {
   "cell_type": "code",
   "execution_count": null,
   "metadata": {},
   "outputs": [],
   "source": [
    "from __future__ import annotations\n",
    "from typing import Union\n",
    "from typeguard import typechecked\n",
    "\n",
    "from numpy import uint8\n",
    "from numbers import Integral\n",
    "\n",
    "@typechecked\n",
    "class OneComp: # (Integral): # Tooo many to implement\n",
    "    \n",
    "    def __init__(self, v: Union[Integral, OneComp]):\n",
    "        raise NotImplementedError()\n",
    "    \n",
    "    def __neg__(self) -> OneComp:\n",
    "        raise NotImplementedError()\n",
    "    \n",
    "    def __add__(self, other: OneComp) -> OneComp:\n",
    "        raise NotImplementedError()\n",
    "    \n",
    "    def __sub__(self, other: OneComp) -> OneComp:\n",
    "        raise NotImplementedError()\n",
    "    \n",
    "    def __str__(self) -> str:\n",
    "        raise NotImplementedError()\n",
    "    \n",
    "    def __repr__(self) -> str:\n",
    "        return str(self)\n",
    "\n",
    "\n",
    "if __name__ == '__main__':\n",
    "    v1 = OneComp(10)\n",
    "    v2 = OneComp(-12)\n",
    "    v3 = v1 + v2\n",
    "    v4 = v1 - v2\n",
    "    print(v1, v2, v3, v4)"
   ]
  },
  {
   "cell_type": "code",
   "execution_count": null,
   "metadata": {},
   "outputs": [],
   "source": []
  }
 ],
 "metadata": {
  "kernelspec": {
   "display_name": "Python 3",
   "language": "python",
   "name": "python3"
  },
  "language_info": {
   "codemirror_mode": {
    "name": "ipython",
    "version": 3
   },
   "file_extension": ".py",
   "mimetype": "text/x-python",
   "name": "python",
   "nbconvert_exporter": "python",
   "pygments_lexer": "ipython3",
   "version": "3.8.1"
  }
 },
 "nbformat": 4,
 "nbformat_minor": 4
}
